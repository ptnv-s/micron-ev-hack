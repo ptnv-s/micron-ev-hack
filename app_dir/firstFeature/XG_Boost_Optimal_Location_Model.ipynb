{
  "cells": [
    {
      "cell_type": "code",
      "execution_count": 1,
      "metadata": {
        "id": "297kDVTC3qe9"
      },
      "outputs": [],
      "source": [
        "import pandas as pd\n",
        "import xgboost as xgb\n",
        "import pickle\n",
        "from sklearn.model_selection import train_test_split\n",
        "from sklearn.metrics import confusion_matrix, average_precision_score, roc_auc_score, classification_report"
      ]
    },
    {
      "cell_type": "code",
      "execution_count": 2,
      "metadata": {
        "id": "YK_DBJLp3zAQ"
      },
      "outputs": [],
      "source": [
        "df = pd.read_csv(\"final_ev.csv\")\n",
        "df = df.drop(['Unnamed: 0'], axis=1)"
      ]
    },
    {
      "cell_type": "code",
      "execution_count": 3,
      "metadata": {
        "colab": {
          "base_uri": "https://localhost:8080/",
          "height": 206
        },
        "id": "gEDmxzcs33xi",
        "outputId": "0e69c568-d99d-40ca-e82c-c06bd17913a6"
      },
      "outputs": [
        {
          "data": {
            "text/html": [
              "<div>\n",
              "<style scoped>\n",
              "    .dataframe tbody tr th:only-of-type {\n",
              "        vertical-align: middle;\n",
              "    }\n",
              "\n",
              "    .dataframe tbody tr th {\n",
              "        vertical-align: top;\n",
              "    }\n",
              "\n",
              "    .dataframe thead th {\n",
              "        text-align: right;\n",
              "    }\n",
              "</style>\n",
              "<table border=\"1\" class=\"dataframe\">\n",
              "  <thead>\n",
              "    <tr style=\"text-align: right;\">\n",
              "      <th></th>\n",
              "      <th>latitude</th>\n",
              "      <th>longitude</th>\n",
              "      <th>college</th>\n",
              "      <th>food_court</th>\n",
              "      <th>hospital</th>\n",
              "      <th>parking</th>\n",
              "      <th>restaurant</th>\n",
              "      <th>university</th>\n",
              "      <th>charging_station</th>\n",
              "    </tr>\n",
              "  </thead>\n",
              "  <tbody>\n",
              "    <tr>\n",
              "      <th>0</th>\n",
              "      <td>51.510359</td>\n",
              "      <td>-0.187704</td>\n",
              "      <td>0.0</td>\n",
              "      <td>0.0</td>\n",
              "      <td>0.0</td>\n",
              "      <td>0.0</td>\n",
              "      <td>1.0</td>\n",
              "      <td>0.0</td>\n",
              "      <td>0.0</td>\n",
              "    </tr>\n",
              "    <tr>\n",
              "      <th>1</th>\n",
              "      <td>51.403444</td>\n",
              "      <td>-0.255276</td>\n",
              "      <td>0.0</td>\n",
              "      <td>0.0</td>\n",
              "      <td>0.0</td>\n",
              "      <td>1.0</td>\n",
              "      <td>0.0</td>\n",
              "      <td>0.0</td>\n",
              "      <td>0.0</td>\n",
              "    </tr>\n",
              "    <tr>\n",
              "      <th>2</th>\n",
              "      <td>51.465290</td>\n",
              "      <td>-0.058371</td>\n",
              "      <td>0.0</td>\n",
              "      <td>0.0</td>\n",
              "      <td>0.0</td>\n",
              "      <td>0.0</td>\n",
              "      <td>1.0</td>\n",
              "      <td>0.0</td>\n",
              "      <td>1.0</td>\n",
              "    </tr>\n",
              "    <tr>\n",
              "      <th>3</th>\n",
              "      <td>51.438312</td>\n",
              "      <td>-0.156274</td>\n",
              "      <td>0.0</td>\n",
              "      <td>0.0</td>\n",
              "      <td>0.0</td>\n",
              "      <td>0.0</td>\n",
              "      <td>1.0</td>\n",
              "      <td>0.0</td>\n",
              "      <td>0.0</td>\n",
              "    </tr>\n",
              "    <tr>\n",
              "      <th>4</th>\n",
              "      <td>51.358167</td>\n",
              "      <td>-0.216632</td>\n",
              "      <td>0.0</td>\n",
              "      <td>0.0</td>\n",
              "      <td>0.0</td>\n",
              "      <td>0.0</td>\n",
              "      <td>1.0</td>\n",
              "      <td>0.0</td>\n",
              "      <td>0.0</td>\n",
              "    </tr>\n",
              "  </tbody>\n",
              "</table>\n",
              "</div>"
            ],
            "text/plain": [
              "    latitude  longitude  college  food_court  hospital  parking  restaurant  \\\n",
              "0  51.510359  -0.187704      0.0         0.0       0.0      0.0         1.0   \n",
              "1  51.403444  -0.255276      0.0         0.0       0.0      1.0         0.0   \n",
              "2  51.465290  -0.058371      0.0         0.0       0.0      0.0         1.0   \n",
              "3  51.438312  -0.156274      0.0         0.0       0.0      0.0         1.0   \n",
              "4  51.358167  -0.216632      0.0         0.0       0.0      0.0         1.0   \n",
              "\n",
              "   university  charging_station  \n",
              "0         0.0               0.0  \n",
              "1         0.0               0.0  \n",
              "2         0.0               1.0  \n",
              "3         0.0               0.0  \n",
              "4         0.0               0.0  "
            ]
          },
          "execution_count": 3,
          "metadata": {},
          "output_type": "execute_result"
        }
      ],
      "source": [
        "df.head()"
      ]
    },
    {
      "cell_type": "code",
      "execution_count": 4,
      "metadata": {
        "id": "vWc-_bkT89EF"
      },
      "outputs": [],
      "source": [
        "X = df.drop(['charging_station'], axis=1)\n",
        "y=df['charging_station']"
      ]
    },
    {
      "cell_type": "code",
      "execution_count": 5,
      "metadata": {
        "id": "YBYIprtqT_dq"
      },
      "outputs": [],
      "source": [
        "X = X.to_numpy()\n",
        "y = y.to_numpy()"
      ]
    },
    {
      "cell_type": "code",
      "execution_count": 6,
      "metadata": {
        "id": "T0nswQ2s8760"
      },
      "outputs": [],
      "source": [
        "X_train, X_test, y_train, y_test = train_test_split(X,y, random_state=0, test_size=0.2)"
      ]
    },
    {
      "cell_type": "code",
      "execution_count": 7,
      "metadata": {
        "colab": {
          "base_uri": "https://localhost:8080/"
        },
        "id": "KxmjoSUa9Qk-",
        "outputId": "0961e89e-721a-4621-a10d-c506245ee5c3"
      },
      "outputs": [
        {
          "data": {
            "text/plain": [
              "XGBClassifier(base_score=0.5, booster='gbtree', callbacks=None,\n",
              "              colsample_bylevel=1, colsample_bynode=1, colsample_bytree=1,\n",
              "              early_stopping_rounds=None, enable_categorical=False,\n",
              "              eval_metric=None, gamma=0, gpu_id=-1, grow_policy='depthwise',\n",
              "              importance_type=None, interaction_constraints='',\n",
              "              learning_rate=0.300000012, max_bin=256, max_cat_to_onehot=4,\n",
              "              max_delta_step=0, max_depth=6, max_leaves=0, min_child_weight=1,\n",
              "              missing=nan, monotone_constraints='()', n_estimators=100,\n",
              "              n_jobs=0, num_parallel_tree=1, predictor='auto', random_state=42,\n",
              "              reg_alpha=0, reg_lambda=1, ...)"
            ]
          },
          "execution_count": 7,
          "metadata": {},
          "output_type": "execute_result"
        }
      ],
      "source": [
        "cls = xgb.XGBClassifier(objective=\"binary:logistic\", random_state=42)\n",
        "cls.fit(X_train, y_train)"
      ]
    },
    {
      "cell_type": "code",
      "execution_count": 8,
      "metadata": {
        "colab": {
          "base_uri": "https://localhost:8080/"
        },
        "id": "PUIwl9-U9WK3",
        "outputId": "199c3b81-c982-4619-b6fb-43127cd5117a"
      },
      "outputs": [
        {
          "name": "stdout",
          "output_type": "stream",
          "text": [
            "              precision    recall  f1-score   support\n",
            "\n",
            "         0.0       0.92      1.00      0.96      3492\n",
            "         1.0       1.00      0.90      0.95      2960\n",
            "\n",
            "    accuracy                           0.95      6452\n",
            "   macro avg       0.96      0.95      0.95      6452\n",
            "weighted avg       0.96      0.95      0.95      6452\n",
            "\n",
            "Confusion Matrix\n",
            "[[3489    3]\n",
            " [ 291 2669]]\n"
          ]
        }
      ],
      "source": [
        "labels = cls.predict(X_train)\n",
        "print(classification_report(y_train, labels))\n",
        "print('Confusion Matrix')\n",
        "print(confusion_matrix(y_train, labels))"
      ]
    },
    {
      "cell_type": "code",
      "execution_count": 9,
      "metadata": {
        "colab": {
          "base_uri": "https://localhost:8080/"
        },
        "id": "0HLf03kP9Yl7",
        "outputId": "169e1c18-85e1-4849-a21f-2326cbb3fc79"
      },
      "outputs": [
        {
          "name": "stdout",
          "output_type": "stream",
          "text": [
            "              precision    recall  f1-score   support\n",
            "\n",
            "         0.0       0.89      0.98      0.93       914\n",
            "         1.0       0.97      0.83      0.90       700\n",
            "\n",
            "    accuracy                           0.92      1614\n",
            "   macro avg       0.93      0.91      0.92      1614\n",
            "weighted avg       0.92      0.92      0.92      1614\n",
            "\n",
            "Confusion Matrix\n",
            "[[899  15]\n",
            " [116 584]]\n"
          ]
        }
      ],
      "source": [
        "labels = cls.predict(X_test)\n",
        "print(classification_report(y_test, labels))\n",
        "print('Confusion Matrix')\n",
        "print(confusion_matrix(y_test, labels))"
      ]
    },
    {
      "cell_type": "code",
      "execution_count": 10,
      "metadata": {
        "id": "DItmo7RGR2GL"
      },
      "outputs": [],
      "source": [
        "pickle.dump(cls, open(\"optimal_pred_model.pkl\", \"wb\"))"
      ]
    },
    {
      "cell_type": "code",
      "execution_count": 11,
      "metadata": {
        "id": "bXD3j2XkS86D"
      },
      "outputs": [],
      "source": [
        "def predict_optimal_place(long,lati):\n",
        "  new_model = pickle.load(open(\"optimal_pred_model.pkl\", \"rb\"))\n",
        "  #placeholder to return long,lat and other data of shape (8,)\n",
        "  #ip_features = \n",
        "\n",
        "  pred = new_model.predict(ip_features.reshape(-1,1).T)\n",
        "  del new_model\n",
        "  return pred"
      ]
    }
  ],
  "metadata": {
    "colab": {
      "collapsed_sections": [],
      "provenance": []
    },
    "kernelspec": {
      "display_name": "Python 3.9.4 64-bit (microsoft store)",
      "language": "python",
      "name": "python3"
    },
    "language_info": {
      "codemirror_mode": {
        "name": "ipython",
        "version": 3
      },
      "file_extension": ".py",
      "mimetype": "text/x-python",
      "name": "python",
      "nbconvert_exporter": "python",
      "pygments_lexer": "ipython3",
      "version": "3.9.4"
    },
    "vscode": {
      "interpreter": {
        "hash": "33c99ce92ae57a37c90157b7c35934b668ba43f0729fdf7df53b30c6721ba8f2"
      }
    }
  },
  "nbformat": 4,
  "nbformat_minor": 0
}
