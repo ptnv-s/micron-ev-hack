{
  "cells": [
    {
      "cell_type": "code",
      "execution_count": 22,
      "metadata": {
        "colab": {
          "base_uri": "https://localhost:8080/",
          "height": 907
        },
        "id": "L-QPWurkS0cE",
        "outputId": "8444a354-f0d5-426d-8056-43bb5078b178"
      },
      "outputs": [
        {
          "name": "stdout",
          "output_type": "stream",
          "text": [
            "Requirement already satisfied: osmnx in c:\\users\\hp\\appdata\\local\\packages\\pythonsoftwarefoundation.python.3.9_qbz5n2kfra8p0\\localcache\\local-packages\\python39\\site-packages (1.2.2)\n",
            "Requirement already satisfied: matplotlib>=3.5 in c:\\users\\hp\\appdata\\local\\packages\\pythonsoftwarefoundation.python.3.9_qbz5n2kfra8p0\\localcache\\local-packages\\python39\\site-packages (from osmnx) (3.6.0)\n",
            "Requirement already satisfied: geopandas>=0.11 in c:\\users\\hp\\appdata\\local\\packages\\pythonsoftwarefoundation.python.3.9_qbz5n2kfra8p0\\localcache\\local-packages\\python39\\site-packages (from osmnx) (0.11.1)\n",
            "Requirement already satisfied: networkx>=2.8 in c:\\users\\hp\\appdata\\local\\packages\\pythonsoftwarefoundation.python.3.9_qbz5n2kfra8p0\\localcache\\local-packages\\python39\\site-packages (from osmnx) (2.8.7)\n",
            "Requirement already satisfied: Rtree>=1.0 in c:\\users\\hp\\appdata\\local\\packages\\pythonsoftwarefoundation.python.3.9_qbz5n2kfra8p0\\localcache\\local-packages\\python39\\site-packages (from osmnx) (1.0.1)\n",
            "Requirement already satisfied: pandas>=1.4 in c:\\users\\hp\\appdata\\local\\packages\\pythonsoftwarefoundation.python.3.9_qbz5n2kfra8p0\\localcache\\local-packages\\python39\\site-packages (from osmnx) (1.5.1)\n",
            "Requirement already satisfied: pyproj>=3.3 in c:\\users\\hp\\appdata\\local\\packages\\pythonsoftwarefoundation.python.3.9_qbz5n2kfra8p0\\localcache\\local-packages\\python39\\site-packages (from osmnx) (3.4.0)\n",
            "Requirement already satisfied: Shapely<2.0,>=1.8 in c:\\users\\hp\\appdata\\local\\packages\\pythonsoftwarefoundation.python.3.9_qbz5n2kfra8p0\\localcache\\local-packages\\python39\\site-packages (from osmnx) (1.8.5.post1)\n",
            "Requirement already satisfied: numpy>=1.22 in c:\\users\\hp\\appdata\\local\\packages\\pythonsoftwarefoundation.python.3.9_qbz5n2kfra8p0\\localcache\\local-packages\\python39\\site-packages (from osmnx) (1.23.4)\n",
            "Requirement already satisfied: requests>=2.28 in c:\\users\\hp\\appdata\\local\\packages\\pythonsoftwarefoundation.python.3.9_qbz5n2kfra8p0\\localcache\\local-packages\\python39\\site-packages (from osmnx) (2.28.1)\n",
            "Requirement already satisfied: fiona>=1.8 in c:\\users\\hp\\appdata\\local\\packages\\pythonsoftwarefoundation.python.3.9_qbz5n2kfra8p0\\localcache\\local-packages\\python39\\site-packages (from geopandas>=0.11->osmnx) (1.8.22)\n",
            "Requirement already satisfied: packaging in c:\\users\\hp\\appdata\\local\\packages\\pythonsoftwarefoundation.python.3.9_qbz5n2kfra8p0\\localcache\\local-packages\\python39\\site-packages (from geopandas>=0.11->osmnx) (21.0)\n",
            "Requirement already satisfied: setuptools in c:\\program files\\windowsapps\\pythonsoftwarefoundation.python.3.9_3.9.1264.0_x64__qbz5n2kfra8p0\\lib\\site-packages (from fiona>=1.8->geopandas>=0.11->osmnx) (49.2.1)\n",
            "Requirement already satisfied: click-plugins>=1.0 in c:\\users\\hp\\appdata\\local\\packages\\pythonsoftwarefoundation.python.3.9_qbz5n2kfra8p0\\localcache\\local-packages\\python39\\site-packages (from fiona>=1.8->geopandas>=0.11->osmnx) (1.1.1)\n",
            "Requirement already satisfied: munch in c:\\users\\hp\\appdata\\local\\packages\\pythonsoftwarefoundation.python.3.9_qbz5n2kfra8p0\\localcache\\local-packages\\python39\\site-packages (from fiona>=1.8->geopandas>=0.11->osmnx) (2.5.0)\n",
            "Requirement already satisfied: certifi in c:\\users\\hp\\appdata\\local\\packages\\pythonsoftwarefoundation.python.3.9_qbz5n2kfra8p0\\localcache\\local-packages\\python39\\site-packages (from fiona>=1.8->geopandas>=0.11->osmnx) (2021.5.30)\n",
            "Requirement already satisfied: click>=4.0 in c:\\users\\hp\\appdata\\local\\packages\\pythonsoftwarefoundation.python.3.9_qbz5n2kfra8p0\\localcache\\local-packages\\python39\\site-packages (from fiona>=1.8->geopandas>=0.11->osmnx) (8.1.3)\n",
            "Requirement already satisfied: attrs>=17 in c:\\users\\hp\\appdata\\local\\packages\\pythonsoftwarefoundation.python.3.9_qbz5n2kfra8p0\\localcache\\local-packages\\python39\\site-packages (from fiona>=1.8->geopandas>=0.11->osmnx) (21.2.0)\n",
            "Requirement already satisfied: six>=1.7 in c:\\users\\hp\\appdata\\local\\packages\\pythonsoftwarefoundation.python.3.9_qbz5n2kfra8p0\\localcache\\local-packages\\python39\\site-packages (from fiona>=1.8->geopandas>=0.11->osmnx) (1.15.0)\n",
            "Requirement already satisfied: cligj>=0.5 in c:\\users\\hp\\appdata\\local\\packages\\pythonsoftwarefoundation.python.3.9_qbz5n2kfra8p0\\localcache\\local-packages\\python39\\site-packages (from fiona>=1.8->geopandas>=0.11->osmnx) (0.7.2)\n",
            "Requirement already satisfied: colorama in c:\\users\\hp\\appdata\\local\\packages\\pythonsoftwarefoundation.python.3.9_qbz5n2kfra8p0\\localcache\\local-packages\\python39\\site-packages (from click>=4.0->fiona>=1.8->geopandas>=0.11->osmnx) (0.4.4)\n",
            "Requirement already satisfied: cycler>=0.10 in c:\\users\\hp\\appdata\\local\\packages\\pythonsoftwarefoundation.python.3.9_qbz5n2kfra8p0\\localcache\\local-packages\\python39\\site-packages (from matplotlib>=3.5->osmnx) (0.10.0)\n",
            "Requirement already satisfied: pillow>=6.2.0 in c:\\users\\hp\\appdata\\local\\packages\\pythonsoftwarefoundation.python.3.9_qbz5n2kfra8p0\\localcache\\local-packages\\python39\\site-packages (from matplotlib>=3.5->osmnx) (8.3.1)\n",
            "Requirement already satisfied: kiwisolver>=1.0.1 in c:\\users\\hp\\appdata\\local\\packages\\pythonsoftwarefoundation.python.3.9_qbz5n2kfra8p0\\localcache\\local-packages\\python39\\site-packages (from matplotlib>=3.5->osmnx) (1.3.1)\n",
            "Requirement already satisfied: pyparsing>=2.2.1 in c:\\users\\hp\\appdata\\local\\packages\\pythonsoftwarefoundation.python.3.9_qbz5n2kfra8p0\\localcache\\local-packages\\python39\\site-packages (from matplotlib>=3.5->osmnx) (2.4.7)\n",
            "Requirement already satisfied: python-dateutil>=2.7 in c:\\users\\hp\\appdata\\local\\packages\\pythonsoftwarefoundation.python.3.9_qbz5n2kfra8p0\\localcache\\local-packages\\python39\\site-packages (from matplotlib>=3.5->osmnx) (2.8.1)\n",
            "Requirement already satisfied: fonttools>=4.22.0 in c:\\users\\hp\\appdata\\local\\packages\\pythonsoftwarefoundation.python.3.9_qbz5n2kfra8p0\\localcache\\local-packages\\python39\\site-packages (from matplotlib>=3.5->osmnx) (4.38.0)\n",
            "Requirement already satisfied: contourpy>=1.0.1 in c:\\users\\hp\\appdata\\local\\packages\\pythonsoftwarefoundation.python.3.9_qbz5n2kfra8p0\\localcache\\local-packages\\python39\\site-packages (from matplotlib>=3.5->osmnx) (1.0.5)\n",
            "Requirement already satisfied: pytz>=2020.1 in c:\\users\\hp\\appdata\\local\\packages\\pythonsoftwarefoundation.python.3.9_qbz5n2kfra8p0\\localcache\\local-packages\\python39\\site-packages (from pandas>=1.4->osmnx) (2021.1)\n",
            "Requirement already satisfied: idna<4,>=2.5 in c:\\users\\hp\\appdata\\local\\packages\\pythonsoftwarefoundation.python.3.9_qbz5n2kfra8p0\\localcache\\local-packages\\python39\\site-packages (from requests>=2.28->osmnx) (3.2)\n",
            "Requirement already satisfied: urllib3<1.27,>=1.21.1 in c:\\users\\hp\\appdata\\local\\packages\\pythonsoftwarefoundation.python.3.9_qbz5n2kfra8p0\\localcache\\local-packages\\python39\\site-packages (from requests>=2.28->osmnx) (1.26.7)\n",
            "Requirement already satisfied: charset-normalizer<3,>=2 in c:\\users\\hp\\appdata\\local\\packages\\pythonsoftwarefoundation.python.3.9_qbz5n2kfra8p0\\localcache\\local-packages\\python39\\site-packages (from requests>=2.28->osmnx) (2.0.6)\n"
          ]
        },
        {
          "name": "stderr",
          "output_type": "stream",
          "text": [
            "WARNING: You are using pip version 21.2.4; however, version 22.3 is available.\n",
            "You should consider upgrading via the 'C:\\Users\\HP\\AppData\\Local\\Microsoft\\WindowsApps\\PythonSoftwareFoundation.Python.3.9_qbz5n2kfra8p0\\python.exe -m pip install --upgrade pip' command.\n",
            "C:\\Users\\HP\\AppData\\Local\\Packages\\PythonSoftwareFoundation.Python.3.9_qbz5n2kfra8p0\\LocalCache\\local-packages\\Python39\\site-packages\\IPython\\utils\\_process_win32.py:145: ResourceWarning: unclosed file <_io.BufferedWriter name=4>\n",
            "  return process_handler(cmd, _system_body)\n",
            "ResourceWarning: Enable tracemalloc to get the object allocation traceback\n",
            "C:\\Users\\HP\\AppData\\Local\\Packages\\PythonSoftwareFoundation.Python.3.9_qbz5n2kfra8p0\\LocalCache\\local-packages\\Python39\\site-packages\\IPython\\utils\\_process_win32.py:145: ResourceWarning: unclosed file <_io.BufferedReader name=5>\n",
            "  return process_handler(cmd, _system_body)\n",
            "ResourceWarning: Enable tracemalloc to get the object allocation traceback\n",
            "C:\\Users\\HP\\AppData\\Local\\Packages\\PythonSoftwareFoundation.Python.3.9_qbz5n2kfra8p0\\LocalCache\\local-packages\\Python39\\site-packages\\IPython\\utils\\_process_win32.py:145: ResourceWarning: unclosed file <_io.BufferedReader name=6>\n",
            "  return process_handler(cmd, _system_body)\n",
            "ResourceWarning: Enable tracemalloc to get the object allocation traceback\n"
          ]
        },
        {
          "name": "stdout",
          "output_type": "stream",
          "text": [
            "Requirement already satisfied: utm in c:\\users\\hp\\appdata\\local\\packages\\pythonsoftwarefoundation.python.3.9_qbz5n2kfra8p0\\localcache\\local-packages\\python39\\site-packages (0.7.0)\n"
          ]
        },
        {
          "name": "stderr",
          "output_type": "stream",
          "text": [
            "WARNING: You are using pip version 21.2.4; however, version 22.3 is available.\n",
            "You should consider upgrading via the 'C:\\Users\\HP\\AppData\\Local\\Microsoft\\WindowsApps\\PythonSoftwareFoundation.Python.3.9_qbz5n2kfra8p0\\python.exe -m pip install --upgrade pip' command.\n"
          ]
        }
      ],
      "source": [
        "!pip install osmnx\n",
        "!pip install utm"
      ]
    },
    {
      "cell_type": "code",
      "execution_count": 23,
      "metadata": {
        "id": "297kDVTC3qe9"
      },
      "outputs": [],
      "source": [
        "import pandas as pd\n",
        "import xgboost as xgb\n",
        "import pickle\n",
        "from sklearn.model_selection import train_test_split\n",
        "from sklearn.metrics import confusion_matrix, average_precision_score, roc_auc_score, classification_report\n",
        "import osmnx\n",
        "import utm\n",
        "import numpy as np"
      ]
    },
    {
      "cell_type": "code",
      "execution_count": null,
      "metadata": {
        "id": "dM46Oxrjq0Yg"
      },
      "outputs": [],
      "source": []
    },
    {
      "cell_type": "code",
      "execution_count": null,
      "metadata": {
        "id": "iHDDyRMhwhNj"
      },
      "outputs": [],
      "source": []
    },
    {
      "cell_type": "code",
      "execution_count": null,
      "metadata": {
        "id": "5VsdTDr-qgu5"
      },
      "outputs": [],
      "source": []
    },
    {
      "cell_type": "code",
      "execution_count": 24,
      "metadata": {
        "id": "YK_DBJLp3zAQ"
      },
      "outputs": [],
      "source": [
        "df = pd.read_csv(\"final_ev.csv\")\n",
        "df = df.drop(['Unnamed: 0'], axis=1)"
      ]
    },
    {
      "cell_type": "code",
      "execution_count": 25,
      "metadata": {
        "colab": {
          "base_uri": "https://localhost:8080/",
          "height": 206
        },
        "id": "gEDmxzcs33xi",
        "outputId": "ca2cb513-f803-4337-b0d0-aecb8f13e88e"
      },
      "outputs": [
        {
          "data": {
            "text/html": [
              "<div>\n",
              "<style scoped>\n",
              "    .dataframe tbody tr th:only-of-type {\n",
              "        vertical-align: middle;\n",
              "    }\n",
              "\n",
              "    .dataframe tbody tr th {\n",
              "        vertical-align: top;\n",
              "    }\n",
              "\n",
              "    .dataframe thead th {\n",
              "        text-align: right;\n",
              "    }\n",
              "</style>\n",
              "<table border=\"1\" class=\"dataframe\">\n",
              "  <thead>\n",
              "    <tr style=\"text-align: right;\">\n",
              "      <th></th>\n",
              "      <th>latitude</th>\n",
              "      <th>longitude</th>\n",
              "      <th>college</th>\n",
              "      <th>food_court</th>\n",
              "      <th>hospital</th>\n",
              "      <th>parking</th>\n",
              "      <th>restaurant</th>\n",
              "      <th>university</th>\n",
              "      <th>charging_station</th>\n",
              "    </tr>\n",
              "  </thead>\n",
              "  <tbody>\n",
              "    <tr>\n",
              "      <th>0</th>\n",
              "      <td>51.510359</td>\n",
              "      <td>-0.187704</td>\n",
              "      <td>0.0</td>\n",
              "      <td>0.0</td>\n",
              "      <td>0.0</td>\n",
              "      <td>0.0</td>\n",
              "      <td>1.0</td>\n",
              "      <td>0.0</td>\n",
              "      <td>0.0</td>\n",
              "    </tr>\n",
              "    <tr>\n",
              "      <th>1</th>\n",
              "      <td>51.403444</td>\n",
              "      <td>-0.255276</td>\n",
              "      <td>0.0</td>\n",
              "      <td>0.0</td>\n",
              "      <td>0.0</td>\n",
              "      <td>1.0</td>\n",
              "      <td>0.0</td>\n",
              "      <td>0.0</td>\n",
              "      <td>0.0</td>\n",
              "    </tr>\n",
              "    <tr>\n",
              "      <th>2</th>\n",
              "      <td>51.465290</td>\n",
              "      <td>-0.058371</td>\n",
              "      <td>0.0</td>\n",
              "      <td>0.0</td>\n",
              "      <td>0.0</td>\n",
              "      <td>0.0</td>\n",
              "      <td>1.0</td>\n",
              "      <td>0.0</td>\n",
              "      <td>1.0</td>\n",
              "    </tr>\n",
              "    <tr>\n",
              "      <th>3</th>\n",
              "      <td>51.438312</td>\n",
              "      <td>-0.156274</td>\n",
              "      <td>0.0</td>\n",
              "      <td>0.0</td>\n",
              "      <td>0.0</td>\n",
              "      <td>0.0</td>\n",
              "      <td>1.0</td>\n",
              "      <td>0.0</td>\n",
              "      <td>0.0</td>\n",
              "    </tr>\n",
              "    <tr>\n",
              "      <th>4</th>\n",
              "      <td>51.358167</td>\n",
              "      <td>-0.216632</td>\n",
              "      <td>0.0</td>\n",
              "      <td>0.0</td>\n",
              "      <td>0.0</td>\n",
              "      <td>0.0</td>\n",
              "      <td>1.0</td>\n",
              "      <td>0.0</td>\n",
              "      <td>0.0</td>\n",
              "    </tr>\n",
              "  </tbody>\n",
              "</table>\n",
              "</div>"
            ],
            "text/plain": [
              "    latitude  longitude  college  food_court  hospital  parking  restaurant  \\\n",
              "0  51.510359  -0.187704      0.0         0.0       0.0      0.0         1.0   \n",
              "1  51.403444  -0.255276      0.0         0.0       0.0      1.0         0.0   \n",
              "2  51.465290  -0.058371      0.0         0.0       0.0      0.0         1.0   \n",
              "3  51.438312  -0.156274      0.0         0.0       0.0      0.0         1.0   \n",
              "4  51.358167  -0.216632      0.0         0.0       0.0      0.0         1.0   \n",
              "\n",
              "   university  charging_station  \n",
              "0         0.0               0.0  \n",
              "1         0.0               0.0  \n",
              "2         0.0               1.0  \n",
              "3         0.0               0.0  \n",
              "4         0.0               0.0  "
            ]
          },
          "execution_count": 25,
          "metadata": {},
          "output_type": "execute_result"
        }
      ],
      "source": [
        "df.head()"
      ]
    },
    {
      "cell_type": "code",
      "execution_count": 26,
      "metadata": {
        "id": "vWc-_bkT89EF"
      },
      "outputs": [],
      "source": [
        "X = df.drop(['charging_station'], axis=1)\n",
        "y=df['charging_station']"
      ]
    },
    {
      "cell_type": "code",
      "execution_count": 27,
      "metadata": {
        "id": "YBYIprtqT_dq"
      },
      "outputs": [],
      "source": [
        "X = X.to_numpy()\n",
        "y = y.to_numpy()"
      ]
    },
    {
      "cell_type": "code",
      "execution_count": 28,
      "metadata": {
        "id": "T0nswQ2s8760"
      },
      "outputs": [],
      "source": [
        "X_train, X_test, y_train, y_test = train_test_split(X,y, random_state=0, test_size=0.2)"
      ]
    },
    {
      "cell_type": "code",
      "execution_count": 29,
      "metadata": {
        "colab": {
          "base_uri": "https://localhost:8080/"
        },
        "id": "KxmjoSUa9Qk-",
        "outputId": "153f2295-4f58-48ab-e0ef-8b40e56ce90b"
      },
      "outputs": [
        {
          "data": {
            "text/plain": [
              "XGBClassifier(base_score=0.5, booster='gbtree', callbacks=None,\n",
              "              colsample_bylevel=1, colsample_bynode=1, colsample_bytree=1,\n",
              "              early_stopping_rounds=None, enable_categorical=False,\n",
              "              eval_metric=None, gamma=0, gpu_id=-1, grow_policy='depthwise',\n",
              "              importance_type=None, interaction_constraints='',\n",
              "              learning_rate=0.300000012, max_bin=256, max_cat_to_onehot=4,\n",
              "              max_delta_step=0, max_depth=6, max_leaves=0, min_child_weight=1,\n",
              "              missing=nan, monotone_constraints='()', n_estimators=100,\n",
              "              n_jobs=0, num_parallel_tree=1, predictor='auto', random_state=42,\n",
              "              reg_alpha=0, reg_lambda=1, ...)"
            ]
          },
          "execution_count": 29,
          "metadata": {},
          "output_type": "execute_result"
        }
      ],
      "source": [
        "cls = xgb.XGBClassifier(objective=\"binary:logistic\", random_state=42)\n",
        "cls.fit(X_train, y_train)"
      ]
    },
    {
      "cell_type": "code",
      "execution_count": 30,
      "metadata": {
        "colab": {
          "base_uri": "https://localhost:8080/"
        },
        "id": "PUIwl9-U9WK3",
        "outputId": "7e3e7449-5fe5-4383-c94c-90b68bf1af00"
      },
      "outputs": [
        {
          "name": "stdout",
          "output_type": "stream",
          "text": [
            "              precision    recall  f1-score   support\n",
            "\n",
            "         0.0       0.92      1.00      0.96      3492\n",
            "         1.0       1.00      0.90      0.95      2960\n",
            "\n",
            "    accuracy                           0.95      6452\n",
            "   macro avg       0.96      0.95      0.95      6452\n",
            "weighted avg       0.96      0.95      0.95      6452\n",
            "\n",
            "Confusion Matrix\n",
            "[[3489    3]\n",
            " [ 291 2669]]\n"
          ]
        }
      ],
      "source": [
        "labels = cls.predict(X_train)\n",
        "print(classification_report(y_train, labels))\n",
        "print('Confusion Matrix')\n",
        "print(confusion_matrix(y_train, labels))"
      ]
    },
    {
      "cell_type": "code",
      "execution_count": 31,
      "metadata": {
        "colab": {
          "base_uri": "https://localhost:8080/"
        },
        "id": "0HLf03kP9Yl7",
        "outputId": "a5243a79-8e06-458c-ca14-ba47b37b81d8"
      },
      "outputs": [
        {
          "name": "stdout",
          "output_type": "stream",
          "text": [
            "              precision    recall  f1-score   support\n",
            "\n",
            "         0.0       0.89      0.98      0.93       914\n",
            "         1.0       0.97      0.83      0.90       700\n",
            "\n",
            "    accuracy                           0.92      1614\n",
            "   macro avg       0.93      0.91      0.92      1614\n",
            "weighted avg       0.92      0.92      0.92      1614\n",
            "\n",
            "Confusion Matrix\n",
            "[[899  15]\n",
            " [116 584]]\n"
          ]
        }
      ],
      "source": [
        "labels = cls.predict(X_test)\n",
        "print(classification_report(y_test, labels))\n",
        "print('Confusion Matrix')\n",
        "print(confusion_matrix(y_test, labels))"
      ]
    },
    {
      "cell_type": "code",
      "execution_count": 32,
      "metadata": {
        "id": "DItmo7RGR2GL"
      },
      "outputs": [
        {
          "name": "stderr",
          "output_type": "stream",
          "text": [
            "C:\\Users\\HP\\AppData\\Local\\Temp/ipykernel_11728/529154887.py:1: ResourceWarning: unclosed file <_io.BufferedWriter name='optimal_pred_model3.pkl'>\n",
            "  pickle.dump(cls, open(\"optimal_pred_model3.pkl\", \"wb\"))\n",
            "ResourceWarning: Enable tracemalloc to get the object allocation traceback\n"
          ]
        }
      ],
      "source": [
        "pickle.dump(cls, open(\"optimal_pred_model3.pkl\", \"wb\"))"
      ]
    },
    {
      "cell_type": "code",
      "execution_count": 33,
      "metadata": {
        "id": "3GL1YGmS3nj2"
      },
      "outputs": [],
      "source": [
        "import math\n",
        "def round_down(num,digits):\n",
        "  factor = 10.0 ** digits\n",
        "  return math.floor(num * factor) / factor\n"
      ]
    },
    {
      "cell_type": "code",
      "execution_count": 34,
      "metadata": {
        "id": "bXD3j2XkS86D"
      },
      "outputs": [],
      "source": [
        "def predict_optimal_place(lat,lon):\n",
        "  new_model = pickle.load(open(\"optimal_pred_model3.pkl\", \"rb\"))\n",
        "\n",
        "  # converting lat, lon from WGS4 to UT,\n",
        "  easting, northing, _, _ = utm.from_latlon(lat, lon)\n",
        "\n",
        "  # adding 250 metres buffer to the user input coordinates to give surrounding amenity data\n",
        "  easting = easting + 250\n",
        "  northing = northing + 250\n",
        "\n",
        "  # converting back to lat, lon\n",
        "\n",
        "  lat1, lon1 = utm.to_latlon(easting, northing, 30, 'U')\n",
        "  \n",
        "  # amenities that we are considering\n",
        "  tags = {'amenity': ['food_court', 'restaurant', 'college', 'university', 'parking', 'hospital']}\n",
        "  \n",
        "  # fetching suitable amenity location through OpenStreetMap\n",
        "  x = osmnx.geometries.geometries_from_bbox(north=lat1, south=lat, east=lon1, west=lon, tags=tags)\n",
        "\n",
        "  x = x[['amenity']]\n",
        "  x = pd.get_dummies(x['amenity'])\n",
        "\n",
        "  possible_amenities = {\n",
        "      'food_court' : 0,\n",
        "      'restaurant' : 0,\n",
        "      'college' : 0,\n",
        "      'university': 0,\n",
        "      'parking': 0, \n",
        "      'hospital': 0\n",
        " }\n",
        "\n",
        "  captured_variables = x.columns.values.tolist()\n",
        "\n",
        "  for amenity in captured_variables:\n",
        "    if x[amenity].sum()>0:\n",
        "      possible_amenities.update({amenity:1})\n",
        "  \n",
        "  ip_features = np.array([lat, lon, possible_amenities['college'], possible_amenities['food_court'], possible_amenities['hospital'], possible_amenities['parking'], possible_amenities['restaurant'], possible_amenities['university']])\n",
        "  \n",
        "  pred = new_model.predict(ip_features.reshape(-1,1).T)\n",
        "\n",
        "  del new_model\n",
        "\n",
        "  return pred\n"
      ]
    },
    {
      "cell_type": "code",
      "execution_count": 21,
      "metadata": {
        "colab": {
          "base_uri": "https://localhost:8080/"
        },
        "id": "Bfxjxsj_44y7",
        "outputId": "aa81969d-01a9-4f22-9fd1-012cc1b4484b"
      },
      "outputs": [
        {
          "ename": "NameError",
          "evalue": "name 'x' is not defined",
          "output_type": "error",
          "traceback": [
            "\u001b[1;31m---------------------------------------------------------------------------\u001b[0m",
            "\u001b[1;31mNameError\u001b[0m                                 Traceback (most recent call last)",
            "\u001b[1;32m~\\AppData\\Local\\Temp/ipykernel_11728/32546335.py\u001b[0m in \u001b[0;36m<module>\u001b[1;34m\u001b[0m\n\u001b[1;32m----> 1\u001b[1;33m \u001b[0mx\u001b[0m\u001b[1;33m\u001b[0m\u001b[1;33m\u001b[0m\u001b[0m\n\u001b[0m",
            "\u001b[1;31mNameError\u001b[0m: name 'x' is not defined"
          ]
        }
      ],
      "source": [
        "x"
      ]
    },
    {
      "cell_type": "code",
      "execution_count": null,
      "metadata": {},
      "outputs": [],
      "source": []
    },
    {
      "cell_type": "code",
      "execution_count": 35,
      "metadata": {
        "id": "LY5OB4AHTe1k"
      },
      "outputs": [
        {
          "name": "stderr",
          "output_type": "stream",
          "text": [
            "C:\\Users\\HP\\AppData\\Local\\Temp/ipykernel_11728/1377367806.py:2: ResourceWarning: unclosed file <_io.BufferedReader name='optimal_pred_model3.pkl'>\n",
            "  new_model = pickle.load(open(\"optimal_pred_model3.pkl\", \"rb\"))\n",
            "ResourceWarning: Enable tracemalloc to get the object allocation traceback\n"
          ]
        },
        {
          "data": {
            "text/plain": [
              "array([0])"
            ]
          },
          "execution_count": 35,
          "metadata": {},
          "output_type": "execute_result"
        }
      ],
      "source": [
        "predict_optimal_place(6.6,48.6)"
      ]
    }
  ],
  "metadata": {
    "colab": {
      "collapsed_sections": [],
      "provenance": []
    },
    "kernelspec": {
      "display_name": "Python 3.9.4 64-bit (microsoft store)",
      "language": "python",
      "name": "python3"
    },
    "language_info": {
      "codemirror_mode": {
        "name": "ipython",
        "version": 3
      },
      "file_extension": ".py",
      "mimetype": "text/x-python",
      "name": "python",
      "nbconvert_exporter": "python",
      "pygments_lexer": "ipython3",
      "version": "3.9.4"
    },
    "vscode": {
      "interpreter": {
        "hash": "33c99ce92ae57a37c90157b7c35934b668ba43f0729fdf7df53b30c6721ba8f2"
      }
    }
  },
  "nbformat": 4,
  "nbformat_minor": 0
}
